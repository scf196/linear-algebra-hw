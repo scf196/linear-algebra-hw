{
  "nbformat": 4,
  "nbformat_minor": 0,
  "metadata": {
    "colab": {
      "provenance": [],
      "authorship_tag": "ABX9TyP+/sCac4NI0M0lZcxDZ/bF",
      "include_colab_link": true
    },
    "kernelspec": {
      "name": "python3",
      "display_name": "Python 3"
    },
    "language_info": {
      "name": "python"
    }
  },
  "cells": [
    {
      "cell_type": "markdown",
      "metadata": {
        "id": "view-in-github",
        "colab_type": "text"
      },
      "source": [
        "<a href=\"https://colab.research.google.com/github/scf196/linear-algebra-hw/blob/main/linear_algebra_hw_1.ipynb\" target=\"_parent\"><img src=\"https://colab.research.google.com/assets/colab-badge.svg\" alt=\"Open In Colab\"/></a>"
      ]
    },
    {
      "cell_type": "code",
      "execution_count": 1,
      "metadata": {
        "id": "3bv0m_tALBWq"
      },
      "outputs": [],
      "source": [
        "from sympy import *"
      ]
    },
    {
      "cell_type": "markdown",
      "source": [
        "## Section 1.1"
      ],
      "metadata": {
        "id": "M-V9rEbTT-Ic"
      }
    },
    {
      "cell_type": "code",
      "source": [
        "# 1.1.2\n",
        "A = Matrix([[2, 4, -4],\n",
        "            [5, 7, 11]])\n",
        "\n",
        "print(\"{}\".format(A.rref()))"
      ],
      "metadata": {
        "colab": {
          "base_uri": "https://localhost:8080/"
        },
        "id": "lfPk6jIzLW1k",
        "outputId": "a49a968f-9db4-42f6-d66b-01f343e7da99"
      },
      "execution_count": 16,
      "outputs": [
        {
          "output_type": "stream",
          "name": "stdout",
          "text": [
            "(Matrix([\n",
            "[1, 0, 12],\n",
            "[0, 1, -7]]), (0, 1))\n"
          ]
        }
      ]
    },
    {
      "cell_type": "code",
      "source": [
        "# 1.1.11\n",
        "A = Matrix([[0, 1, 4, -4],\n",
        "            [1, 3, 3, -2],\n",
        "            [3, 7, 5, 6]])\n",
        "\n",
        "print(\"{}\".format(A.rref()))"
      ],
      "metadata": {
        "colab": {
          "base_uri": "https://localhost:8080/"
        },
        "id": "mYoxie2JLmJ-",
        "outputId": "a4335bf1-8a14-490c-c70e-fbadd8e790ee"
      },
      "execution_count": 17,
      "outputs": [
        {
          "output_type": "stream",
          "name": "stdout",
          "text": [
            "(Matrix([\n",
            "[1, 0, 0, 19],\n",
            "[0, 1, 0, -8],\n",
            "[0, 0, 1,  1]]), (0, 1, 2))\n"
          ]
        }
      ]
    },
    {
      "cell_type": "code",
      "source": [
        "# 1.1.20\n",
        "A = Matrix([[1, 0, 0, -2, -3],\n",
        "            [0, 1, 0, -3, 3],\n",
        "            [0, -2, 3, 2, 1],\n",
        "            [3, 0, 0, 7, -5]])\n",
        "\n",
        "print(\"{}\".format(A.rref()))"
      ],
      "metadata": {
        "colab": {
          "base_uri": "https://localhost:8080/"
        },
        "id": "zURBhjwiMSDl",
        "outputId": "2d2785d3-f75f-4b84-bc2a-c2e31dc51e1e"
      },
      "execution_count": 15,
      "outputs": [
        {
          "output_type": "stream",
          "name": "stdout",
          "text": [
            "(Matrix([\n",
            "[1, 0, 0, 0, -31/13],\n",
            "[0, 1, 0, 0,  51/13],\n",
            "[0, 0, 1, 0, 107/39],\n",
            "[0, 0, 0, 1,   4/13]]), (0, 1, 2, 3))\n"
          ]
        }
      ]
    },
    {
      "cell_type": "code",
      "source": [
        "# 1.1.25\n",
        "\n",
        "h = Symbol('h')\n",
        "\n",
        "A = Matrix([[1, 3, -2],\n",
        "            [-4, h, 8]])\n",
        "\n",
        "print(\"{}\".format(A.rref()))"
      ],
      "metadata": {
        "colab": {
          "base_uri": "https://localhost:8080/"
        },
        "id": "PzSUz1PEMv8Y",
        "outputId": "5cadcf5d-b783-4b28-fb32-70fe3ca46d6a"
      },
      "execution_count": 24,
      "outputs": [
        {
          "output_type": "stream",
          "name": "stdout",
          "text": [
            "(Matrix([\n",
            "[1, 0, -2],\n",
            "[0, 1,  0]]), (0, 1))\n"
          ]
        }
      ]
    },
    {
      "cell_type": "markdown",
      "source": [
        "## Section 1.2"
      ],
      "metadata": {
        "id": "uckPDdNVT400"
      }
    },
    {
      "cell_type": "code",
      "source": [
        "# 1.2.2, no need for math"
      ],
      "metadata": {
        "id": "mr3kkhBMNmEN"
      },
      "execution_count": null,
      "outputs": []
    },
    {
      "cell_type": "code",
      "source": [
        "# 1.2.12\n",
        "\n",
        "A = Matrix([[1, -7, 0, 6, 5],\n",
        "            [0, 0, 1, -2, -3],\n",
        "            [-1, 7, -4, 2, 7]])\n",
        "\n",
        "print(\"{}\".format(A.rref()))"
      ],
      "metadata": {
        "colab": {
          "base_uri": "https://localhost:8080/"
        },
        "id": "g65oCwiKP2sd",
        "outputId": "908eabbe-ad5f-4090-e938-32eea8a06405"
      },
      "execution_count": 20,
      "outputs": [
        {
          "output_type": "stream",
          "name": "stdout",
          "text": [
            "(Matrix([\n",
            "[1, -7, 0,  6,  5],\n",
            "[0,  0, 1, -2, -3],\n",
            "[0,  0, 0,  0,  0]]), (0, 2))\n"
          ]
        }
      ]
    },
    {
      "cell_type": "code",
      "source": [
        "# 1.2.23\n",
        "\n",
        "h = Symbol('h')\n",
        "k = Symbol('k')\n",
        "\n",
        "A = Matrix(([1, h, 2],\n",
        "            [4, 8, k]))\n",
        "\n",
        "print(\"{}\".format(A.rref()))"
      ],
      "metadata": {
        "colab": {
          "base_uri": "https://localhost:8080/"
        },
        "id": "GcojXQp6ThRi",
        "outputId": "e3683be7-0378-4aaf-b846-4398b08aedfd"
      },
      "execution_count": 23,
      "outputs": [
        {
          "output_type": "stream",
          "name": "stdout",
          "text": [
            "(Matrix([\n",
            "[1, 0, (h*k - 16)/(4*h - 8)],\n",
            "[0, 1,    (8 - k)/(4*h - 8)]]), (0, 1))\n"
          ]
        }
      ]
    }
  ]
}