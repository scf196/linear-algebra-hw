{
  "nbformat": 4,
  "nbformat_minor": 0,
  "metadata": {
    "colab": {
      "provenance": [],
      "authorship_tag": "ABX9TyOvDKw+j1F8/dYIH+zDrqdE",
      "include_colab_link": true
    },
    "kernelspec": {
      "name": "python3",
      "display_name": "Python 3"
    },
    "language_info": {
      "name": "python"
    }
  },
  "cells": [
    {
      "cell_type": "markdown",
      "metadata": {
        "id": "view-in-github",
        "colab_type": "text"
      },
      "source": [
        "<a href=\"https://colab.research.google.com/github/scf196/linear-algebra-hw/blob/main/linear_algebra_hw_4.ipynb\" target=\"_parent\"><img src=\"https://colab.research.google.com/assets/colab-badge.svg\" alt=\"Open In Colab\"/></a>"
      ]
    },
    {
      "cell_type": "code",
      "source": [
        "from sympy import *"
      ],
      "metadata": {
        "id": "6xesjJQJE6nS"
      },
      "execution_count": 46,
      "outputs": []
    },
    {
      "cell_type": "markdown",
      "source": [
        "## Section 1.9"
      ],
      "metadata": {
        "id": "_rdPCKTbKVLk"
      }
    },
    {
      "cell_type": "code",
      "source": [
        "# 1.9.21\n",
        "A = Matrix([[1, 1],\n",
        "            [4, 5]])\n",
        "\n",
        "B = Matrix([[3],\n",
        "            [8]])\n",
        "\n",
        "A_inv = Inverse(A)\n",
        "\n",
        "print(A_inv*B)"
      ],
      "metadata": {
        "colab": {
          "base_uri": "https://localhost:8080/"
        },
        "id": "mo1AX2rpFIrj",
        "outputId": "e5558829-f86f-400f-887a-89e1ee33be66"
      },
      "execution_count": 75,
      "outputs": [
        {
          "output_type": "stream",
          "name": "stdout",
          "text": [
            "Matrix([[7], [-4]])\n"
          ]
        }
      ]
    },
    {
      "cell_type": "code",
      "source": [
        "# 1.9.33\n",
        "A = Matrix([[0, 0, 0, 0],\n",
        "            [1, 1, 0, 0],\n",
        "            [0, 1, 1, 0],\n",
        "            [0, 0, 1, 1]])\n",
        "A_rref = A.rref()\n",
        "print(\"{}\".format(A_rref))"
      ],
      "metadata": {
        "colab": {
          "base_uri": "https://localhost:8080/"
        },
        "id": "6QUzPFXQFkjr",
        "outputId": "932f5e0f-12f1-4ab9-fafd-5094a1843624"
      },
      "execution_count": 53,
      "outputs": [
        {
          "output_type": "stream",
          "name": "stdout",
          "text": [
            "(Matrix([\n",
            "[1, 0, 0,  1],\n",
            "[0, 1, 0, -1],\n",
            "[0, 0, 1,  1],\n",
            "[0, 0, 0,  0]]), (0, 1, 2))\n"
          ]
        }
      ]
    },
    {
      "cell_type": "code",
      "source": [
        "# 1.9.34\n",
        "A = Matrix([[1, 3],\n",
        "            [4, 2],\n",
        "            [-5, 4]])\n",
        "A_rref = A.rref()\n",
        "print(\"{}\".format(A_rref))"
      ],
      "metadata": {
        "colab": {
          "base_uri": "https://localhost:8080/"
        },
        "id": "9D3XX-GPF4_d",
        "outputId": "4f025d53-1da1-48f5-b034-571f970bcfdc"
      },
      "execution_count": 54,
      "outputs": [
        {
          "output_type": "stream",
          "name": "stdout",
          "text": [
            "(Matrix([\n",
            "[1, 0],\n",
            "[0, 1],\n",
            "[0, 0]]), (0, 1))\n"
          ]
        }
      ]
    },
    {
      "cell_type": "code",
      "source": [
        "# 1.9.45\n",
        "a = Matrix([\n",
        "    [-5, 10, -5, 4],\n",
        "    [8, 3, -4, 7],\n",
        "    [4, -9, 5, -3],\n",
        "    [-3, -2, 5, 4]])\n",
        "A_rref = a.rref()\n",
        "print(\"{}\".format(A_rref))"
      ],
      "metadata": {
        "colab": {
          "base_uri": "https://localhost:8080/"
        },
        "id": "mPNcBQKSdx5v",
        "outputId": "353f9b70-e844-4b74-d783-38a78a51e2f9"
      },
      "execution_count": 47,
      "outputs": [
        {
          "output_type": "stream",
          "name": "stdout",
          "text": [
            "(Matrix([\n",
            "[1, 0, 0, 44/35],\n",
            "[0, 1, 0, 79/35],\n",
            "[0, 0, 1, 86/35],\n",
            "[0, 0, 0,     0]]), (0, 1, 2))\n"
          ]
        }
      ]
    },
    {
      "cell_type": "code",
      "source": [
        "# 1.9.47\n",
        "a = Matrix([\n",
        "    [4, -7, 3, 7, 5],\n",
        "    [6, -8, 5, 12, -8],\n",
        "    [-7, 10, -8, -9, 14],\n",
        "    [3, -5, 4, 2, -6],\n",
        "    [-5, 6, -6, -7, 3]])\n",
        "A_rref = a.rref()\n",
        "print(\"{}\".format(A_rref))"
      ],
      "metadata": {
        "colab": {
          "base_uri": "https://localhost:8080/"
        },
        "id": "GKEM8RfZfPCt",
        "outputId": "66f1c2e1-c5dd-4d29-9b09-f1ab3f382270"
      },
      "execution_count": 48,
      "outputs": [
        {
          "output_type": "stream",
          "name": "stdout",
          "text": [
            "(Matrix([\n",
            "[1, 0, 0,  5, 0],\n",
            "[0, 1, 0,  1, 0],\n",
            "[0, 0, 1, -2, 0],\n",
            "[0, 0, 0,  0, 1],\n",
            "[0, 0, 0,  0, 0]]), (0, 1, 2, 4))\n"
          ]
        }
      ]
    },
    {
      "cell_type": "markdown",
      "source": [
        "## Section 2.1"
      ],
      "metadata": {
        "id": "DcjD-bOmKZxV"
      }
    },
    {
      "cell_type": "code",
      "source": [
        "# 2.1.9\n",
        "\n",
        "A = Matrix([[2, 5],\n",
        "            [-3, 1]])\n",
        "\n",
        "B = Matrix([[4, -5],\n",
        "            [3, 5]])\n",
        "\n",
        "print(A*B)\n",
        "print(B*A)"
      ],
      "metadata": {
        "colab": {
          "base_uri": "https://localhost:8080/"
        },
        "id": "MVQaMamRAqea",
        "outputId": "0aaf06ef-e0ea-49ee-97ce-f576df1f2d15"
      },
      "execution_count": 44,
      "outputs": [
        {
          "output_type": "stream",
          "name": "stdout",
          "text": [
            "Matrix([[23, 15], [-9, 20]])\n",
            "Matrix([[23, 15], [-9, 20]])\n"
          ]
        }
      ]
    },
    {
      "cell_type": "code",
      "source": [
        "# 2.1.10\n",
        "\n",
        "A = Matrix([[2, -3],\n",
        "            [-4, 6]])\n",
        "B = Matrix([[8, 4],\n",
        "            [5, 5]])\n",
        "C = Matrix([[5, -2],\n",
        "            [3, 1]])\n",
        "\n",
        "print(A*B)\n",
        "print(A*C)"
      ],
      "metadata": {
        "colab": {
          "base_uri": "https://localhost:8080/"
        },
        "id": "ZjfCL5dXByIu",
        "outputId": "89ed75a0-81bb-4f4b-a290-cd7ecadf3695"
      },
      "execution_count": 43,
      "outputs": [
        {
          "output_type": "stream",
          "name": "stdout",
          "text": [
            "Matrix([[1, -7], [-2, 14]])\n",
            "Matrix([[1, -7], [-2, 14]])\n"
          ]
        }
      ]
    },
    {
      "cell_type": "code",
      "source": [
        "# 2.1.12\n",
        "\n",
        "A = Matrix([[3, -6],\n",
        "            [-1, 2]])\n",
        "\n",
        "B = Matrix([[2, 4],\n",
        "            [1, 2]])\n",
        "\n",
        "print(A*B)"
      ],
      "metadata": {
        "colab": {
          "base_uri": "https://localhost:8080/"
        },
        "id": "GjzftnGhEjcM",
        "outputId": "c4ca57de-d2a9-4d1e-dcbf-469fc79df4cf"
      },
      "execution_count": 45,
      "outputs": [
        {
          "output_type": "stream",
          "name": "stdout",
          "text": [
            "Matrix([[0, 0], [0, 0]])\n"
          ]
        }
      ]
    },
    {
      "cell_type": "code",
      "source": [
        "# 2.1.35\n",
        "\n",
        "x = Symbol('x')\n",
        "y = Symbol('y')\n",
        "z = Symbol('z')\n",
        "\n",
        "\n",
        "u = Matrix([[-2],\n",
        "            [3],\n",
        "            [-4]])\n",
        "\n",
        "v = Matrix([[x],\n",
        "            [y],\n",
        "            [z]])\n",
        "\n",
        "u_t = Transpose(u)\n",
        "v_t = Transpose(v)\n",
        "\n",
        "print(u_t*v)\n",
        "print(v_t*u)\n",
        "print(u*v_t)\n",
        "print(v*u_t)"
      ],
      "metadata": {
        "colab": {
          "base_uri": "https://localhost:8080/"
        },
        "id": "0kLhGPtLGPr2",
        "outputId": "402bda89-7d94-4c40-a5e0-192139875c2f"
      },
      "execution_count": 66,
      "outputs": [
        {
          "output_type": "stream",
          "name": "stdout",
          "text": [
            "Matrix([[-2*x + 3*y - 4*z]])\n",
            "Matrix([[-2*x + 3*y - 4*z]])\n",
            "Matrix([[-2*x, -2*y, -2*z], [3*x, 3*y, 3*z], [-4*x, -4*y, -4*z]])\n",
            "Matrix([[-2*x, 3*x, -4*x], [-2*y, 3*y, -4*y], [-2*z, 3*z, -4*z]])\n"
          ]
        }
      ]
    }
  ]
}