{
  "nbformat": 4,
  "nbformat_minor": 0,
  "metadata": {
    "colab": {
      "provenance": [],
      "authorship_tag": "ABX9TyNS9ST+kA/TrIzBN9xjShNY",
      "include_colab_link": true
    },
    "kernelspec": {
      "name": "python3",
      "display_name": "Python 3"
    },
    "language_info": {
      "name": "python"
    }
  },
  "cells": [
    {
      "cell_type": "markdown",
      "metadata": {
        "id": "view-in-github",
        "colab_type": "text"
      },
      "source": [
        "<a href=\"https://colab.research.google.com/github/scf196/linear-algebra-hw/blob/main/linear_algebra_hw_2.ipynb\" target=\"_parent\"><img src=\"https://colab.research.google.com/assets/colab-badge.svg\" alt=\"Open In Colab\"/></a>"
      ]
    },
    {
      "cell_type": "code",
      "execution_count": 2,
      "metadata": {
        "id": "82GDv7kEUN1z"
      },
      "outputs": [],
      "source": [
        "from sympy import *"
      ]
    },
    {
      "cell_type": "markdown",
      "source": [
        "## Section 1.3"
      ],
      "metadata": {
        "id": "rkwPOlbVUlf8"
      }
    },
    {
      "cell_type": "code",
      "source": [
        "# 1.3.9\n",
        "\n",
        "A = Matrix([[0, 1, 5, 0],\n",
        "            [4, 6, -1, 0],\n",
        "            [-1, 3, -8, 0]])\n",
        "\n",
        "print(\"{}\".format(A.rref()))"
      ],
      "metadata": {
        "colab": {
          "base_uri": "https://localhost:8080/"
        },
        "id": "afF0GEyNUnz1",
        "outputId": "e225056a-4b80-4218-a7ed-af0490a0814b"
      },
      "execution_count": 3,
      "outputs": [
        {
          "output_type": "stream",
          "name": "stdout",
          "text": [
            "(Matrix([\n",
            "[1, 0, 0, 0],\n",
            "[0, 1, 0, 0],\n",
            "[0, 0, 1, 0]]), (0, 1, 2))\n"
          ]
        }
      ]
    },
    {
      "cell_type": "code",
      "source": [
        "# 1.3.11\n",
        "\n",
        "A = Matrix([[1, 0, 5, -5],\n",
        "            [-2, 1, -6, 11],\n",
        "            [0, 2, 8, -7]])\n",
        "\n",
        "print(\"{}\".format(A.rref()))"
      ],
      "metadata": {
        "colab": {
          "base_uri": "https://localhost:8080/"
        },
        "id": "5_2pZkvVUp2j",
        "outputId": "58df939e-b42c-487f-ecd6-66fff8158a93"
      },
      "execution_count": 10,
      "outputs": [
        {
          "output_type": "stream",
          "name": "stdout",
          "text": [
            "(Matrix([\n",
            "[1, 0, 5, 0],\n",
            "[0, 1, 4, 0],\n",
            "[0, 0, 0, 1]]), (0, 1, 3))\n"
          ]
        }
      ]
    },
    {
      "cell_type": "code",
      "source": [
        "# 1.3.17\n",
        "\n",
        "h = Symbol(\"h\")\n",
        "\n",
        "A = Matrix([[1, -2, 4],\n",
        "            [4, -3, 1],\n",
        "            [-2, 7, h]])\n",
        "\n",
        "print(\"{}\".format(A.rref()))"
      ],
      "metadata": {
        "colab": {
          "base_uri": "https://localhost:8080/"
        },
        "id": "WDAoj7FNUrv6",
        "outputId": "07c3c7f7-7a05-4631-ffd3-f5c1538f79f7"
      },
      "execution_count": 11,
      "outputs": [
        {
          "output_type": "stream",
          "name": "stdout",
          "text": [
            "(Matrix([\n",
            "[1, 0, 0],\n",
            "[0, 1, 0],\n",
            "[0, 0, 1]]), (0, 1, 2))\n"
          ]
        }
      ]
    },
    {
      "cell_type": "code",
      "source": [
        "# 1.3.34\n",
        "\n",
        "# part A\n",
        "\n",
        "A = Matrix([[2, 0, 6, 10],\n",
        "            [-1, 8, 5, 3],\n",
        "            [1, -2, 1, 3]])\n",
        "\n",
        "print(\"{}\".format(A.rref()))\n",
        "\n",
        "A_0 = Matrix([[2, 0, 6, 6],\n",
        "            [-1, 8, 5, 5],\n",
        "            [1, -2, 1, 1]])\n",
        "\n",
        "print(\"{}\".format(A_0.rref()))"
      ],
      "metadata": {
        "colab": {
          "base_uri": "https://localhost:8080/"
        },
        "id": "ppD8JxkxUto1",
        "outputId": "2638b4a0-9681-495a-c452-3be0630a9e23"
      },
      "execution_count": 13,
      "outputs": [
        {
          "output_type": "stream",
          "name": "stdout",
          "text": [
            "(Matrix([\n",
            "[1, 0, 3, 5],\n",
            "[0, 1, 1, 1],\n",
            "[0, 0, 0, 0]]), (0, 1))\n",
            "(Matrix([\n",
            "[1, 0, 3, 3],\n",
            "[0, 1, 1, 1],\n",
            "[0, 0, 0, 0]]), (0, 1))\n"
          ]
        }
      ]
    },
    {
      "cell_type": "markdown",
      "source": [
        "## Section 1.4"
      ],
      "metadata": {
        "id": "TSeauRJvWvcs"
      }
    },
    {
      "cell_type": "code",
      "source": [
        "# 1.4.10, no code needed"
      ],
      "metadata": {
        "id": "b0vqn8HEWxTq"
      },
      "execution_count": null,
      "outputs": []
    },
    {
      "cell_type": "code",
      "source": [
        "# 1.4.15\n",
        "\n",
        "x = Symbol(\"x\")\n",
        "y = Symbol(\"y\")\n",
        "\n",
        "A = Matrix([[2, -1, x],\n",
        "            [-6, 3, y]])\n",
        "\n",
        "print(\"{}\".format(A.rref()))"
      ],
      "metadata": {
        "colab": {
          "base_uri": "https://localhost:8080/"
        },
        "id": "nuXZzMe4Y2iU",
        "outputId": "8701ade8-f544-46a9-f106-7ed53b7b2890"
      },
      "execution_count": 14,
      "outputs": [
        {
          "output_type": "stream",
          "name": "stdout",
          "text": [
            "(Matrix([\n",
            "[1, -1/2, 0],\n",
            "[0,    0, 1]]), (0, 2))\n"
          ]
        }
      ]
    },
    {
      "cell_type": "code",
      "source": [
        "# 1.4.21, does not require code"
      ],
      "metadata": {
        "id": "sbDfiyYVY3jM"
      },
      "execution_count": null,
      "outputs": []
    },
    {
      "cell_type": "code",
      "source": [
        "# 1.4.22, does not require code"
      ],
      "metadata": {
        "id": "PtlVrtC9Y7DZ"
      },
      "execution_count": null,
      "outputs": []
    },
    {
      "cell_type": "markdown",
      "source": [
        "## Section 1.5"
      ],
      "metadata": {
        "id": "GSkjSsaFZ7Wv"
      }
    },
    {
      "cell_type": "code",
      "source": [
        "# 1.5.5\n",
        "\n",
        "A = Matrix([[1, 3, 1, 0],\n",
        "            [-4, -9, 2, 0],\n",
        "            [0, -3, -6, 0]])\n",
        "\n",
        "print(\"{}\".format(A.rref()))"
      ],
      "metadata": {
        "colab": {
          "base_uri": "https://localhost:8080/"
        },
        "id": "utKOGS5dZ-ap",
        "outputId": "05c974e8-093d-42b9-a6b3-5e03e6a6c6ff"
      },
      "execution_count": 15,
      "outputs": [
        {
          "output_type": "stream",
          "name": "stdout",
          "text": [
            "(Matrix([\n",
            "[1, 0, -5, 0],\n",
            "[0, 1,  2, 0],\n",
            "[0, 0,  0, 0]]), (0, 1))\n"
          ]
        }
      ]
    },
    {
      "cell_type": "code",
      "source": [
        "# 1.5.19\n",
        "\n",
        "A = Matrix([[1, 3, 1, 1],\n",
        "            [-4, -9, 2, -1],\n",
        "            [0, -3, -6, -3]])\n",
        "\n",
        "print(\"{}\".format(A.rref()))"
      ],
      "metadata": {
        "colab": {
          "base_uri": "https://localhost:8080/"
        },
        "id": "pWzSAvIWagoa",
        "outputId": "406e0e03-890d-45e9-e68e-5949c6eabe10"
      },
      "execution_count": 16,
      "outputs": [
        {
          "output_type": "stream",
          "name": "stdout",
          "text": [
            "(Matrix([\n",
            "[1, 0, -5, -2],\n",
            "[0, 1,  2,  1],\n",
            "[0, 0,  0,  0]]), (0, 1))\n"
          ]
        }
      ]
    },
    {
      "cell_type": "code",
      "source": [
        "# 1.5.21, no code needed"
      ],
      "metadata": {
        "id": "W99hgzWiajZw"
      },
      "execution_count": null,
      "outputs": []
    }
  ]
}